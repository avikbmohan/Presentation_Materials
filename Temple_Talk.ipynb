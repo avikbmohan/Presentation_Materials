{
  "nbformat": 4,
  "nbformat_minor": 0,
  "metadata": {
    "colab": {
      "name": "Temple Talk",
      "provenance": [],
      "collapsed_sections": [],
      "toc_visible": true,
      "authorship_tag": "ABX9TyPP8LtAtIGebgCNk4Ox/yC3",
      "include_colab_link": true
    },
    "kernelspec": {
      "name": "python3",
      "display_name": "Python 3"
    },
    "language_info": {
      "name": "python"
    }
  },
  "cells": [
    {
      "cell_type": "markdown",
      "metadata": {
        "id": "view-in-github",
        "colab_type": "text"
      },
      "source": [
        "<a href=\"https://colab.research.google.com/github/avikbmohan/Presentation_Materials/blob/main/Temple_Talk.ipynb\" target=\"_parent\"><img src=\"https://colab.research.google.com/assets/colab-badge.svg\" alt=\"Open In Colab\"/></a>"
      ]
    },
    {
      "cell_type": "markdown",
      "metadata": {
        "id": "LOp5b7wbD5JZ"
      },
      "source": [
        "# Introduction\n"
      ]
    },
    {
      "cell_type": "markdown",
      "metadata": {
        "id": "V6BVcFJccTKj"
      },
      "source": [
        "\n",
        "## About Me\n",
        "\n",
        "- Hello! My name is Avik Mohan\n",
        "\n",
        "- I'm a team lead within Data and Analytics Engineering\n",
        "\n",
        "- Graduated from UCLA in 2017, earning a B.S. in Computer Science, with math and stats specializations\n",
        "\n",
        "- My team is part of the Analytics Platform engineering group"
      ]
    },
    {
      "cell_type": "markdown",
      "metadata": {
        "id": "6pdXY26AcYzO"
      },
      "source": [
        "## About Cigna\n",
        "\n",
        "- Cigna is a global health service company  \n",
        " - Offers health, pharmacy, dental, supplemental insurance and Medicare plans\n",
        " - Serves individuals, families, and businesses.\n",
        "\n",
        "- Stems back to the Insurance Company of North America, formed in 1792\n",
        "- Recent focus geared towards analytics\n",
        "- Vested interest in helping people stay healthy"
      ]
    },
    {
      "cell_type": "markdown",
      "metadata": {
        "id": "v9fqmB8Kcazc"
      },
      "source": [
        "## The Analytics Platform\n",
        "\n",
        "- The Analytics Platform is designed as a full analytics ecosystem\n",
        "\n",
        "- Supports things like Python, R, SQL, Web Apps, Dashboards, Scheduling, and more\n",
        "\n",
        "- Dedicated data storage solutions (Databases, Object Storage)\n",
        "\n",
        "- Cloud-based infrastructure (AWS)\n",
        "\n",
        "- My team:\n",
        "  - Help support various business critical projects\n",
        "    - Automation\n",
        "    - Datascience & ML Engineering\n",
        "    - Data Engineering\n",
        "    - Infrastructure (Networking, Kubernetes, Databases)\n",
        "    - Security"
      ]
    },
    {
      "cell_type": "markdown",
      "metadata": {
        "id": "trINyxnnce8e"
      },
      "source": [
        "## Plan for this talk\n",
        "\n",
        "- Overview of model timeline, from data generation to reporting results\n",
        "\n",
        "- Go through examples from real life, to explore some of the concepts from the timeline\n",
        "  - Each section will be 'self-contained'\n",
        "  - Focus on real-world value generation\n",
        "\n",
        "- Discuss a little bit more about my experiences and the daily life at Cigna"
      ]
    },
    {
      "cell_type": "markdown",
      "metadata": {
        "id": "5CfgBDHtcdYs"
      },
      "source": [
        "## What Is This Notebook?\n",
        "\n",
        "- This is Google 'Colaboratory'\n",
        "\n",
        "- Often shortened to 'Colab'\n",
        "\n",
        "- Basically a free, shareable, cloud-hosted Jupyter notebook\n",
        "\n",
        "- Going to be using it as my 'powerpoint' and also so we can run code together"
      ]
    },
    {
      "cell_type": "code",
      "metadata": {
        "id": "JNdjDtJedRtE"
      },
      "source": [
        "for k in range(3):\n",
        "  print('*'*66)\n",
        "for k in range(2):\n",
        "  print('*'*6, ' '* 52, '*' *6)\n",
        "for k in range(3):\n",
        "  print('*'*6, ' '* 4, '*'*18, ' '* 4, '*'*18, ' '* 4, '*'*6)\n",
        "for k in range(3):\n",
        "  print('*'*6, ' '* 4, '*'*6, ' '* 4, '*'*6,' '* 4, '*'*6, ' '* 4, '*'*6, ' '* 4, '*'*6)\n",
        "for k in range(15):\n",
        "  print(' '*23, '*'* 6, ' '* 4, '*'*6, ' '* 4)\n",
        "for k in range(3):\n",
        "  print(' '* 11, '*'*18, ' '* 4, '*'*18, ' '* 4)\n",
        "for k in range(2):\n",
        "  print()\n",
        "for k in range(3):\n",
        "  print(' '* 11, '*'*42, ' '* 4)"
      ],
      "execution_count": null,
      "outputs": []
    },
    {
      "cell_type": "markdown",
      "metadata": {
        "id": "rzHyVZhBD5j9"
      },
      "source": [
        "# Model Timeline\n",
        "\n",
        "- **Data Generation**\n",
        "  - Claims, Vendors, Hospitals, Doctors, and more\n",
        "\n",
        "- **Initial Data Storage**\n",
        "  - Analytics Servers or cloud-based storage\n",
        "\n",
        "- **Data Cleaning & Maintenance**\n",
        "  - File format, delimiters, compression, encoding, partitioning, additions, etc.\n",
        "\n",
        "- **Data 'Presentation'**\n",
        "  - User-facing database (server w/ storage + compute), authentication & authorization, naming conventions, runaway queries\n",
        "\n",
        "- **Querying Data**\n",
        "  - Support Datascientists and Business analysts, as well as enterprise-level jobs\n",
        "\n",
        "- **Building Models**\n",
        "  - Having sufficient hardware, memory management, parallelized and distributed computing, correct packages and versions\n",
        "\n",
        "- **Running Models**\n",
        "  - Scheduling (time and event-driven), failure logic, storing output data\n",
        "\n",
        "- **Model Monitoring**\n",
        "  - Data drift and quality checks, model 'stale'-ness, retraining\n",
        "\n",
        "- **Reporting Results**\n",
        "  - Creating and hosting interactive dashboards, managing access\n",
        "\n",
        "- **Throughout...**\n",
        "  - Cost considerations, infrastructure maintenance, CICD engineering, version control, site reliability engineering\n",
        "\n",
        "#### Site Reliability Engineering\n",
        "\n",
        "\" SRE is what you get when you treat operations as if it’s a software problem \" - Google\n",
        "\n",
        "- Managing operations processes through code\n",
        "\n",
        "- Includes specifying and deploying infrastructure, alarms and notifications, maintaining high availability"
      ]
    },
    {
      "cell_type": "markdown",
      "metadata": {
        "id": "GE4FCncVjDHd"
      },
      "source": [
        "# Data Generation"
      ]
    },
    {
      "cell_type": "markdown",
      "metadata": {
        "id": "U8dY0TFl-D-6"
      },
      "source": [
        "- Data comes from a variety of sources:\n",
        "  - Claims\n",
        "  - Vendors\n",
        "  - Doctors\n",
        "  - Hospitals\n",
        "\n",
        "- Crosswalks\n",
        "  - Help explain what a table contains\n",
        "  - 'Feature Dictionary' to explain the columns\n",
        "  - Explain the origin of columns, column restrictions\n",
        "  - How to interpret special values\n",
        "\n",
        "- Cigna is in a unique position with the data it possesses\n"
      ]
    },
    {
      "cell_type": "code",
      "metadata": {
        "id": "KWHnGNMblasm"
      },
      "source": [
        "# Reference [1]\n",
        "import pandas as pd\n",
        "import numpy.random as npr\n",
        "import random\n",
        "import string\n",
        "\n",
        "size = 100\n",
        "\n",
        "# Note the column names\n",
        "df = pd.DataFrame({'icd_cd': npr.randint(0, 999, size=size),\n",
        "                   'prgm_cd': [''.join(random.choices(string.ascii_uppercase, k=10))\n",
        "                         for i in range(size)]} )\n",
        "df"
      ],
      "execution_count": null,
      "outputs": []
    },
    {
      "cell_type": "markdown",
      "metadata": {
        "id": "EYBxiDizixyZ"
      },
      "source": [
        "- The data we deal with is very large in size\n",
        "  - Hundreds of millions, or billions, of rows\n",
        "  - Up to one or two thousand columns\n",
        "\n",
        "- Important to store efficiently"
      ]
    },
    {
      "cell_type": "markdown",
      "metadata": {
        "id": "zoGVmtwfjVlS"
      },
      "source": [
        "# Initial Data Storage\n",
        "\n",
        "- \"Landing the data\"\n",
        "\n",
        "- Initial storage is likely going to be in the form of some objects\n",
        "  - Currently, the data is in 'block' storage in memory\n",
        "\n"
      ]
    },
    {
      "cell_type": "code",
      "metadata": {
        "id": "IYhZjuUVmdXR"
      },
      "source": [
        "df.to_csv('data.csv')"
      ],
      "execution_count": null,
      "outputs": []
    },
    {
      "cell_type": "markdown",
      "metadata": {
        "id": "c7dh3I47jE_H"
      },
      "source": [
        "- Pandas recently added functionality to write directly to S3\n",
        "  - Note, this requires credentials to be set up\n",
        "  - Credentials are stored either in:\n",
        "    - A config file in your home directory\n",
        "```\n",
        "      ~/.aws/credentials\n",
        "```\n",
        "    - In environment variables\n",
        "```\n",
        "os.environ[\"AWS_ACCESS_KEY_ID\"] = \"abc123\"\n",
        "os.environ[\"AWS_SECRET_ACCESS_KEY\"] = \"xyz456\"\n",
        "```\n",
        "\n",
        "    "
      ]
    },
    {
      "cell_type": "code",
      "metadata": {
        "id": "l0xurS3W_KGN"
      },
      "source": [
        "import os\n",
        "os.environ"
      ],
      "execution_count": null,
      "outputs": []
    },
    {
      "cell_type": "code",
      "metadata": {
        "id": "i_UsZNA3nhS4"
      },
      "source": [
        "# pip install fsspec\n",
        "# pip install s3fs\n",
        "# df.to_csv('s3://avik-temple-talk/filename')"
      ],
      "execution_count": null,
      "outputs": []
    },
    {
      "cell_type": "markdown",
      "metadata": {
        "id": "IjV47maFpjED"
      },
      "source": [
        "# Data Cleaning & Maintenance"
      ]
    },
    {
      "cell_type": "markdown",
      "metadata": {
        "id": "V-j1MNKVqvCE"
      },
      "source": [
        "### Mapping JSON\n",
        "\n",
        "- Might get JSON data, and have to map it to a relational table"
      ]
    },
    {
      "cell_type": "code",
      "metadata": {
        "id": "e8-b7DJUj3N7"
      },
      "source": [
        "# Reference [2]\n",
        "employees = \"\"\"\n",
        "{\"employees\":[  \n",
        "    {\"name\":\"Avik\", \"email\":\"avik17@cigna.com\"},  \n",
        "    {\"name\":\"Mark\", \"email\":\"mark32@gmail.com\"},  \n",
        "    {\"name\":\"Alice\", \"email\":\"alice87@gmail.com\"}  \n",
        "]}\n",
        "\"\"\""
      ],
      "execution_count": null,
      "outputs": []
    },
    {
      "cell_type": "code",
      "metadata": {
        "id": "7GWLs7G28BbP"
      },
      "source": [
        "import json\n",
        "\n",
        "data = json.loads(employees)['employees']"
      ],
      "execution_count": null,
      "outputs": []
    },
    {
      "cell_type": "code",
      "metadata": {
        "id": "5n6bpJkF8miA"
      },
      "source": [
        "data"
      ],
      "execution_count": null,
      "outputs": []
    },
    {
      "cell_type": "code",
      "metadata": {
        "id": "TT_Py2sb-Hg2"
      },
      "source": [
        "pd.DataFrame(data)"
      ],
      "execution_count": null,
      "outputs": []
    },
    {
      "cell_type": "markdown",
      "metadata": {
        "id": "8cngr2DOFH_o"
      },
      "source": [
        "- This however, won't scale to larger datasets.\n",
        "\n",
        "- We can use AWS Glue to help address this"
      ]
    },
    {
      "cell_type": "markdown",
      "metadata": {
        "id": "AZgp5QO5jerG"
      },
      "source": [
        "### Joining Data\n",
        "\n",
        "- Joining between databases (on-prem to the cloud)\n",
        "  - Managing memory\n",
        "\n",
        "- It's extremely useful to know SQL, even if you primarily use another language\n",
        "  - Many analysts today are using SAS\n",
        "  - Good to be aware of the different SQL 'flavors'"
      ]
    },
    {
      "cell_type": "markdown",
      "metadata": {
        "id": "vY0aRe43AYRK"
      },
      "source": [
        "# Data Presention"
      ]
    },
    {
      "cell_type": "markdown",
      "metadata": {
        "id": "jWgO1g5qkDW_"
      },
      "source": [
        "After landing, cleaning, and formatting the data, it must be made available to consumers\n",
        "\n",
        "The following questions come up all the time when understanding where to 'present' data.\n",
        "- What sort of database do we want to use?\n",
        "  - OLAP vs OLTP\n",
        "  - SQL vs NoSQL\n",
        "\n",
        "- How do we want to deal with user created tables?\n",
        "  - Lifetime policies\n",
        "  - Sensitivity checks\n",
        "  - Access configuration\n",
        "\n",
        "- What if we're dealing with objects rather than tables?\n",
        "  - Compression and Encoding\n",
        "  - File format - how does this affect functionality?"
      ]
    },
    {
      "cell_type": "markdown",
      "metadata": {
        "id": "Kv6n8v8qowKx"
      },
      "source": [
        "# Querying Data\n",
        "\n",
        "- Columnar Storage\n",
        "  - Appropriate for analytics, OLAP databases\n",
        "  - File format inherently column rather than row based\n",
        "  - Makes 'Select *' queries very slow, but optimized queries very fast\n",
        "  \n",
        "![image3.png](data:image/png;base64,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)\n",
        "\n",
        "[https://dbmsmusings.blogspot.com/2017/10/apache-arrow-vs-parquet-and-orc-do-we.html]"
      ]
    },
    {
      "cell_type": "markdown",
      "metadata": {
        "id": "DG0-7tnIo4hJ"
      },
      "source": [
        "# Building a Model"
      ]
    },
    {
      "cell_type": "markdown",
      "metadata": {
        "id": "FvXnRqNbuu0Y"
      },
      "source": [
        "## Part 1: Importing packages"
      ]
    },
    {
      "cell_type": "markdown",
      "metadata": {
        "id": "p6Z6uI7XTnMe"
      },
      "source": [
        " - Example from work: building out spark clusters, making sure they have the right version of things like nmupy"
      ]
    },
    {
      "cell_type": "markdown",
      "metadata": {
        "id": "4_BkfFwtuqby"
      },
      "source": [
        "## Part 2: GPU's, Terraform, and Kubernetes"
      ]
    },
    {
      "cell_type": "markdown",
      "metadata": {
        "id": "bH6FoXgxC9Cc"
      },
      "source": [
        "- How do we make GPU's available on the AP?\n",
        "  - Docker containers, Kubernetes, EKS"
      ]
    },
    {
      "cell_type": "code",
      "metadata": {
        "id": "6dp4SmrxX4S2"
      },
      "source": [
        "import tensorflow as tf"
      ],
      "execution_count": null,
      "outputs": []
    },
    {
      "cell_type": "code",
      "metadata": {
        "id": "I2wEEp7lX5dA"
      },
      "source": [
        "tf.config.list_physical_devices('GPU')"
      ],
      "execution_count": null,
      "outputs": []
    },
    {
      "cell_type": "code",
      "metadata": {
        "id": "mwWhng9UX-h8"
      },
      "source": [
        "tf.config.list_physical_devices('CPU')"
      ],
      "execution_count": null,
      "outputs": []
    },
    {
      "cell_type": "markdown",
      "metadata": {
        "id": "3cxQo8bJYGIq"
      },
      "source": [
        "- A note on using GPU's: they help at large scale"
      ]
    },
    {
      "cell_type": "markdown",
      "metadata": {
        "id": "Ws_-zQcmqhnn"
      },
      "source": [
        "## Part 3: Pandas vs Dask vs Koalas vs Spark"
      ]
    },
    {
      "cell_type": "markdown",
      "metadata": {
        "id": "ncwYiRm0YMpQ"
      },
      "source": [
        "- This is a *very* important thing to understand if you'll be working with big data\n",
        "\n",
        "- Oftentimes, it is *necessary* to leverage one of these tools to run ETL and models realistically."
      ]
    },
    {
      "cell_type": "markdown",
      "metadata": {
        "id": "xPFtUeWwYe8h"
      },
      "source": [
        "### Pandas\n",
        "\n",
        "- The one we know and love\n",
        "\n",
        "- Runs single-threaded\n",
        "\n",
        "- Python itself has the Global Interpreter Lock:\n",
        "https://wiki.python.org/moin/GlobalInterpreterLock\n",
        "  - \"In hindsight, the GIL is not ideal...\""
      ]
    },
    {
      "cell_type": "markdown",
      "metadata": {
        "id": "JkPkrOf1YhPx"
      },
      "source": [
        "### Dask\n",
        "\n",
        "- Uses the familar Pandas syntax\n",
        "\n",
        "- Helps parallelize your code, on a single machine or clusters of thousands of machines\n",
        "\n",
        "- https://dask.org/"
      ]
    },
    {
      "cell_type": "markdown",
      "metadata": {
        "id": "rK2bbporYhtN"
      },
      "source": [
        "### Koalas\n",
        "\n",
        "- Uses the familiar Pandas syntax\n",
        "  - Smallest divergence for datascientists\n",
        "\n",
        "- Uses Spark in the background for optimization"
      ]
    },
    {
      "cell_type": "markdown",
      "metadata": {
        "id": "b_wFu0Kcakqn"
      },
      "source": [
        "https://koalas.readthedocs.io/en/latest/index.html\n",
        "\n",
        "How is Koalas different from Dask?\n",
        "\n",
        "\n",
        "Different projects have different focuses. Spark is already deployed in virtually every organization, and often is the primary interface to the massive amount of data stored in data lakes. Koalas was inspired by Dask, and aims to make the transition from pandas to Spark easy for data scientists."
      ]
    },
    {
      "cell_type": "markdown",
      "metadata": {
        "id": "msd2SMzpYg6u"
      },
      "source": [
        "### Spark\n",
        "\n",
        "- Generalized Compute Engine\n",
        "\n",
        "- Was a project out of UC Berkeley\n",
        "\n",
        "- A lot of the creators are now part of DataBricks\n",
        "\n",
        "- Can take the form of PySpark, SparkR, and more\n",
        "\n",
        "- Builds on the MapReduce paradigm\n",
        "  - Uses memory rather than disk"
      ]
    },
    {
      "cell_type": "markdown",
      "metadata": {
        "id": "sW3JlAQKYurr"
      },
      "source": [
        "### Modin\n",
        "\n",
        "- Newer, I don't know too much about it, but seems promising\n",
        "\n",
        "- https://www.kdnuggets.com/2019/11/speed-up-pandas-4x.html"
      ]
    },
    {
      "cell_type": "markdown",
      "metadata": {
        "id": "9e-2BeH9vcV1"
      },
      "source": [
        "# Running Models\n",
        "\n",
        "- Internally process built using various AWS and CICD tools\n",
        "- cron\n",
        "  - https://crontab.guru\n",
        "- Event-driven systems\n",
        "- Failure Logic\n",
        "  - Step-Functions, DAG's\n",
        "- Storing output data so that it's presentable (permissions)"
      ]
    },
    {
      "cell_type": "markdown",
      "metadata": {
        "id": "Gb2o7dMVwqdZ"
      },
      "source": [
        "# Model Monitoring\n",
        "\n",
        "- Data drift, model 'stale'-ness\n",
        "  - MLFlow\n",
        "\n",
        "- Model Bias testing\n",
        "\n",
        "- Monitoring of scheduling: failures, alarms, etc"
      ]
    },
    {
      "cell_type": "markdown",
      "metadata": {
        "id": "2r-fm3VMwqF_"
      },
      "source": [
        "# Reporting Results"
      ]
    },
    {
      "cell_type": "markdown",
      "metadata": {
        "id": "p0fSKwbczurF"
      },
      "source": [
        "- Reporting is extremely important - this is often how management would like to view the data to make decisions upon it.\n",
        "\n",
        "- Let's run a search for a nice Dash example"
      ]
    },
    {
      "cell_type": "code",
      "metadata": {
        "id": "4UX-w-qbxFB-"
      },
      "source": [
        "# Reference [3] - https://dash.plotly.com/layout\n",
        "import dash\n",
        "import dash_core_components as dcc\n",
        "import dash_html_components as html\n",
        "import plotly.express as px\n",
        "import pandas as pd\n",
        "\n",
        "app = dash.Dash(__name__)\n",
        "\n",
        "# assume you have a \"long-form\" data frame\n",
        "# see https://plotly.com/python/px-arguments/ for more options\n",
        "df = pd.DataFrame({\n",
        "    \"Fruit\": [\"Apples\", \"Oranges\", \"Bananas\", \"Apples\", \"Oranges\", \"Bananas\"],\n",
        "    \"Amount\": [4, 1, 2, 2, 4, 5],\n",
        "    \"City\": [\"SF\", \"SF\", \"SF\", \"Montreal\", \"Montreal\", \"Montreal\"]\n",
        "})\n",
        "\n",
        "fig = px.bar(df, x=\"Fruit\", y=\"Amount\", color=\"City\", barmode=\"group\")\n",
        "\n",
        "app.layout = html.Div(children=[\n",
        "    html.H1(children='Hello Dash'),\n",
        "\n",
        "    html.Div(children='''\n",
        "        Dash: A web application framework for your data.\n",
        "    '''),\n",
        "\n",
        "    dcc.Graph(\n",
        "        id='example-graph',\n",
        "        figure=fig\n",
        "    )\n",
        "])\n",
        "\n",
        "if __name__ == '__main__':\n",
        "    app.run_server(debug=True, port=8054)"
      ],
      "execution_count": null,
      "outputs": []
    },
    {
      "cell_type": "markdown",
      "metadata": {
        "id": "VdHfTf9Wwz6t"
      },
      "source": [
        "- That didn't work. Let's search more specifically ( \"dash in colab\" )"
      ]
    },
    {
      "cell_type": "code",
      "metadata": {
        "id": "Z9HhwNFDyPwc"
      },
      "source": [
        "# Reference [4]\n",
        "# How to run a Dash app in Google Colab\n",
        "\n",
        "## Requirements\n",
        "\n",
        "### Install ngrok\n",
        "!wget https://bin.equinox.io/c/4VmDzA7iaHb/ngrok-stable-linux-amd64.zip\n",
        "!unzip ngrok-stable-linux-amd64.zip\n",
        "\n",
        "### Run ngrok to tunnel Dash app port 8050 to the outside world. \n",
        "### This command runs in the background.\n",
        "get_ipython().system_raw('./ngrok http 8050 &')\n",
        "\n",
        "### Get the public URL where you can access the Dash app. Copy this URL.\n",
        "! curl -s http://localhost:4040/api/tunnels | python3 -c \\\n",
        "    \"import sys, json; print(json.load(sys.stdin)['tunnels'][0]['public_url'])\"\n",
        "\n",
        "### Install Dash\n",
        "!pip install dash==0.31.1  # The core dash backend\n",
        "!pip install dash-html-components==0.13.2  # HTML components\n",
        "!pip install dash-core-components==0.39.0  # Supercharged components\n",
        "!pip install dash-table==3.1.7  # Interactive DataTable component (new!)"
      ],
      "execution_count": null,
      "outputs": []
    },
    {
      "cell_type": "code",
      "metadata": {
        "id": "N4rEeigEyVoG"
      },
      "source": [
        "## Dash app (https://dash.plot.ly/getting-started)\n",
        "\n",
        "### Save file with Dash app on the Google Colab machine\n",
        "%%writefile my_app1.py\n",
        "import dash\n",
        "import dash_core_components as dcc\n",
        "import dash_html_components as html\n",
        "\n",
        "external_stylesheets = ['https://codepen.io/chriddyp/pen/bWLwgP.css']\n",
        "\n",
        "app = dash.Dash(__name__, external_stylesheets=external_stylesheets)\n",
        "\n",
        "app.layout = html.Div(children=[\n",
        "    html.H1(children='Hello Dash'),\n",
        "\n",
        "    html.Div(children='''\n",
        "        Dash: A web application framework for Python.\n",
        "    '''),\n",
        "\n",
        "    dcc.Graph(\n",
        "        id='example-graph',\n",
        "        figure={\n",
        "            'data': [\n",
        "                {'x': [1, 2, 3], 'y': [4, 1, 2], 'type': 'bar', 'name': 'SF'},\n",
        "                {'x': [1, 2, 3], 'y': [2, 4, 5], 'type': 'bar', 'name': u'Montréal'},\n",
        "            ],\n",
        "            'layout': {\n",
        "                'title': 'Dash Data Visualization'\n",
        "            }\n",
        "        }\n",
        "    )\n",
        "])\n",
        "\n",
        "if __name__ == '__main__':\n",
        "    app.run_server(debug=True)"
      ],
      "execution_count": null,
      "outputs": []
    },
    {
      "cell_type": "code",
      "metadata": {
        "id": "FQITLX5yydSK"
      },
      "source": [
        "### Run Dash app\n",
        "!python my_app1.py"
      ],
      "execution_count": null,
      "outputs": []
    },
    {
      "cell_type": "markdown",
      "metadata": {
        "id": "crUhQSyP0u36"
      },
      "source": [
        "- Stil not working... what now? \n",
        "\n",
        "- Revert to matplotlib?"
      ]
    },
    {
      "cell_type": "code",
      "metadata": {
        "id": "dfjlia0uzLVe"
      },
      "source": [
        "!pip install jupyter-dash\n",
        "\n",
        "import plotly.express as px\n",
        "from jupyter_dash import JupyterDash\n",
        "import dash_core_components as dcc\n",
        "import dash_html_components as html\n",
        "from dash.dependencies import Input, Output\n",
        "# Load Data\n",
        "df = px.data.tips()\n",
        "# Build App\n",
        "app = JupyterDash(__name__)\n",
        "app.layout = html.Div([\n",
        "    html.H1(\"JupyterDash Demo\"),\n",
        "    dcc.Graph(id='graph'),\n",
        "    html.Label([\n",
        "        \"colorscale\",\n",
        "        dcc.Dropdown(\n",
        "            id='colorscale-dropdown', clearable=False,\n",
        "            value='plasma', options=[\n",
        "                {'label': c, 'value': c}\n",
        "                for c in px.colors.named_colorscales()\n",
        "            ])\n",
        "    ]),\n",
        "])\n",
        "# Define callback to update graph\n",
        "@app.callback(\n",
        "    Output('graph', 'figure'),\n",
        "    [Input(\"colorscale-dropdown\", \"value\")]\n",
        ")\n",
        "def update_figure(colorscale):\n",
        "    return px.scatter(\n",
        "        df, x=\"total_bill\", y=\"tip\", color=\"size\",\n",
        "        color_continuous_scale=colorscale,\n",
        "        render_mode=\"webgl\", title=\"Tips\"\n",
        "    )\n",
        "# Run app and display result inline in the notebook\n",
        "app.run_server(mode='inline')"
      ],
      "execution_count": null,
      "outputs": []
    },
    {
      "cell_type": "markdown",
      "metadata": {
        "id": "j4wimPaNXy7H"
      },
      "source": [
        "# A Little More on Daily Life as an Analytics Engineer at Cigna\n",
        "\n",
        "- Meet really great and knowledgeable people\n",
        "\n",
        "- Work with awesome tools and resources - learn a LOT\n",
        "  - Agile, program management, real world tools\n",
        "\n",
        "- See what it takes to really make a change in the world - understand how to really create value"
      ]
    },
    {
      "cell_type": "markdown",
      "metadata": {
        "id": "AeZkpu6xjCC2"
      },
      "source": [
        "# References\n",
        "\n",
        "1. https://www.practicaldatascience.org/html/parquet.html\n",
        "\n",
        "2. https://www.javatpoint.com/json-example\n",
        "\n",
        "3. https://dash.plotly.com/layout\n",
        "\n",
        "4. https://stackoverflow.com/questions/53622518/launch-a-dash-app-in-a-google-colab-notebook"
      ]
    }
  ]
}