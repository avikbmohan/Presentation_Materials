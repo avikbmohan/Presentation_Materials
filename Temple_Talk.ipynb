{
  "nbformat": 4,
  "nbformat_minor": 0,
  "metadata": {
    "colab": {
      "name": "Temple Talk",
      "provenance": [],
      "collapsed_sections": [],
      "toc_visible": true,
      "authorship_tag": "ABX9TyNX9d8eXNsV/DBZgm69TsI7",
      "include_colab_link": true
    },
    "kernelspec": {
      "name": "python3",
      "display_name": "Python 3"
    },
    "language_info": {
      "name": "python"
    }
  },
  "cells": [
    {
      "cell_type": "markdown",
      "metadata": {
        "id": "view-in-github",
        "colab_type": "text"
      },
      "source": [
        "<a href=\"https://colab.research.google.com/github/avikbmohan/Presentation_Materials/blob/main/Temple_Talk.ipynb\" target=\"_parent\"><img src=\"https://colab.research.google.com/assets/colab-badge.svg\" alt=\"Open In Colab\"/></a>"
      ]
    },
    {
      "cell_type": "markdown",
      "metadata": {
        "id": "LOp5b7wbD5JZ"
      },
      "source": [
        "# Introduction\n",
        "\n",
        "## About Me\n",
        "\n",
        "- Hello! My name is Avik Mohan\n",
        "\n",
        "- I'm a team lead within Data and Analytics Engineering\n",
        "\n",
        "- Graduated from UCLA in 2017, earning a B.S. in Computer Science, with math and stats specializations\n",
        "\n",
        "- My team is part of the Analytics Platform engineering group\n",
        "\n",
        "## About Cigna\n",
        "\n",
        "- Health insurance company\n",
        "- Old\n",
        "- Recent focus towards analytics\n",
        "- Helps us be the good guys, keeping people healthy\n",
        "\n",
        "## The Analytics Platform\n",
        "\n",
        "- The Analytics Platform is designed as a full analytics ecosystem\n",
        "\n",
        "- Supports things like Python, R, SQL, Web Apps, Dashboards, Scheduling, and more\n",
        "\n",
        "- Dedicated Data storage solutions\n",
        "\n",
        "- Cloud-based infrastructure\n",
        "\n",
        "- My team:\n",
        "  - Often help our sister teams with deploying architecture or testing new tools\n",
        "  - Main focus is helping produce end deliverables\n",
        "\n",
        "\n",
        "## What Is This Notebook?\n",
        "\n",
        "- This is Google 'Colaboratory'\n",
        "\n",
        "- Often shortened to 'Colab'\n",
        "\n",
        "- Basically a free, shareable, cloud-hosted Jupyter notebook\n",
        "\n",
        "- Going to be using it as my 'powerpoint' and also so we can run code together\n",
        "\n",
        "## Plan for this talk\n",
        "\n",
        "- Overview of model timeline, from data generation to reporting results\n",
        "\n",
        "- Go through a sample model, to explore some of the concepts from the timeline\n",
        "  - Each section will be 'self-contained'\n",
        "\n",
        "- Discuss a little bit more about my experiences and the daily life at Cigna"
      ]
    },
    {
      "cell_type": "markdown",
      "metadata": {
        "id": "rzHyVZhBD5j9"
      },
      "source": [
        "# Model Timeline\n",
        "\n",
        "- **Data Generation**\n",
        "  - Claims, Vendors, Hospitals, Doctors, and more\n",
        "\n",
        "- **Initial Data Storage**\n",
        "  - Analytics Servers or cloud-based storage\n",
        "\n",
        "- **Data Cleaning & Maintenance**\n",
        "  - File format, delimiters, compression, encoding, partitioning, additons, etc.\n",
        "\n",
        "- **Data 'Presentation'**\n",
        "  - User-facing database (server w/ storage + compute), authentication & authorization, naming conventions, runaway queries\n",
        "\n",
        "- **Querying Data**\n",
        "  - Support Datascientists and Business analysts, as well as enterprise-level jobs\n",
        "\n",
        "- **Building Models**\n",
        "  - Having sufficient hardware, memory management, parallelized and distributed computing, correct packages and versions\n",
        "\n",
        "- **Running Models**\n",
        "  - Scheduling (time and event-driven), failure logic, storing output data\n",
        "\n",
        "- **Model Monitoring**\n",
        "  - Data drift and quality checks, model 'stale'-ness, retraining\n",
        "\n",
        "- **Reporting Results**\n",
        "  - Creating and hosting interactive dashboards, managing access\n",
        "\n",
        "- **Throughout...**\n",
        "  - Cost considerations, infrastructure maintenance, CICD engineering, version control, site reliability engineering\n",
        "\n",
        "#### Site Reliability Engineering\n",
        "\n",
        "\" SRE is what you get when you treat operations as if it’s a software problem \" - Google\n",
        "\n",
        "- Managing operations processes through code\n",
        "\n",
        "- Includes specifying and deploying infrastructure, alarms and notifications, maintaining high availability"
      ]
    },
    {
      "cell_type": "markdown",
      "metadata": {
        "id": "GE4FCncVjDHd"
      },
      "source": [
        "# Data Generation"
      ]
    },
    {
      "cell_type": "markdown",
      "metadata": {
        "id": "U8dY0TFl-D-6"
      },
      "source": [
        "- talk  about our data generation and acquisition\n",
        "\n",
        "- what is a crosswalk\n",
        "  - removing vowels from word"
      ]
    },
    {
      "cell_type": "code",
      "metadata": {
        "id": "KWHnGNMblasm"
      },
      "source": [
        "# Reference [1]\n",
        "import pandas as pd\n",
        "import numpy.random as npr\n",
        "import random\n",
        "import string\n",
        "\n",
        "size = 100\n",
        "\n",
        "# Note the column names\n",
        "df = pd.DataFrame({'icd_cd': npr.randint(0, 999, size=size),\n",
        "                   'prgm_cd': [''.join(random.choices(string.ascii_uppercase, k=10))\n",
        "                         for i in range(size)]} )\n",
        "df"
      ],
      "execution_count": null,
      "outputs": []
    },
    {
      "cell_type": "markdown",
      "metadata": {
        "id": "zoGVmtwfjVlS"
      },
      "source": [
        "# Initial Data Storage\n",
        "\n",
        "- \"Landing the data\"\n",
        "\n",
        "- Initial storage is likely going to be in the form of some objects\n",
        "  - Currently, the data is in 'block' storage in memory\n",
        "\n"
      ]
    },
    {
      "cell_type": "code",
      "metadata": {
        "id": "IYhZjuUVmdXR"
      },
      "source": [
        "df.to_csv('data.csv')"
      ],
      "execution_count": null,
      "outputs": []
    },
    {
      "cell_type": "code",
      "metadata": {
        "id": "i_UsZNA3nhS4"
      },
      "source": [
        "df.to_csv('s3://Bucket/prefix')"
      ],
      "execution_count": null,
      "outputs": []
    },
    {
      "cell_type": "markdown",
      "metadata": {
        "id": "IjV47maFpjED"
      },
      "source": [
        "# Data Cleaning & Maintenance"
      ]
    },
    {
      "cell_type": "markdown",
      "metadata": {
        "id": "V-j1MNKVqvCE"
      },
      "source": [
        "- Might get JSON data, and have to map it to a relational table\n",
        "\n",
        "- Joining between databases (on-prem to the cloud)\n",
        "\n",
        "- Parquet"
      ]
    },
    {
      "cell_type": "code",
      "metadata": {
        "id": "12PE9LJcquEr"
      },
      "source": [
        ""
      ],
      "execution_count": null,
      "outputs": []
    },
    {
      "cell_type": "markdown",
      "metadata": {
        "id": "vY0aRe43AYRK"
      },
      "source": [
        "# Data Presention"
      ]
    },
    {
      "cell_type": "markdown",
      "metadata": {
        "id": "Kv6n8v8qowKx"
      },
      "source": [
        "# Querying Data\n",
        "\n",
        "- Columnar Storage\n",
        "\n",
        "- Feature  Engineering\n"
      ]
    },
    {
      "cell_type": "markdown",
      "metadata": {
        "id": "DG0-7tnIo4hJ"
      },
      "source": [
        "# Building a Model"
      ]
    },
    {
      "cell_type": "markdown",
      "metadata": {
        "id": "FvXnRqNbuu0Y"
      },
      "source": [
        "## Part 1: Importing packages"
      ]
    },
    {
      "cell_type": "code",
      "metadata": {
        "id": "4zgxPcLopAk1"
      },
      "source": [
        "import boto3"
      ],
      "execution_count": null,
      "outputs": []
    },
    {
      "cell_type": "code",
      "metadata": {
        "id": "7yG-aED1BB3z"
      },
      "source": [
        "!pip install boto3"
      ],
      "execution_count": null,
      "outputs": []
    },
    {
      "cell_type": "code",
      "metadata": {
        "id": "FEplF3ZSBDiI"
      },
      "source": [
        "import boto3"
      ],
      "execution_count": null,
      "outputs": []
    },
    {
      "cell_type": "code",
      "metadata": {
        "id": "my_TQR97BSTg"
      },
      "source": [
        "!pip freeze"
      ],
      "execution_count": null,
      "outputs": []
    },
    {
      "cell_type": "markdown",
      "metadata": {
        "id": "4_BkfFwtuqby"
      },
      "source": [
        "## Part 2: GPU's, Terraform, and Kubernetes"
      ]
    },
    {
      "cell_type": "markdown",
      "metadata": {
        "id": "bH6FoXgxC9Cc"
      },
      "source": [
        "- How do we make GPU's available oon the AP?\n",
        "  - Docker containers, Kubernetes, EKS\n",
        "\n",
        "- Run  some Tensorflow code to check for a GPU\n",
        "\n",
        "- When to use a GPU\n",
        "  - Test on larger data"
      ]
    },
    {
      "cell_type": "markdown",
      "metadata": {
        "id": "Ws_-zQcmqhnn"
      },
      "source": [
        "## Part 3: Pandas vs Koalas vs Dask vs Spark"
      ]
    },
    {
      "cell_type": "markdown",
      "metadata": {
        "id": "9e-2BeH9vcV1"
      },
      "source": [
        "# Running Models\n",
        "\n",
        "- CloudSAE\n",
        "- cron\n",
        "- event-driven systems\n",
        "- failure logic\n",
        "- storing output data (permissions)"
      ]
    },
    {
      "cell_type": "markdown",
      "metadata": {
        "id": "Gb2o7dMVwqdZ"
      },
      "source": [
        "# Model Monitoring\n",
        "\n",
        "- MLFlow\n",
        "\n",
        "- Data drift, model 'stale'-ness\n",
        "\n",
        "- Model Bias testing\n"
      ]
    },
    {
      "cell_type": "markdown",
      "metadata": {
        "id": "2r-fm3VMwqF_"
      },
      "source": [
        "# Reporting Results"
      ]
    },
    {
      "cell_type": "markdown",
      "metadata": {
        "id": "p0fSKwbczurF"
      },
      "source": [
        "- Reporting is extremely important - this is often how management would like to view the data to make decisions upon it.\n",
        "\n",
        "- Let's run a search for a nice Dash example"
      ]
    },
    {
      "cell_type": "code",
      "metadata": {
        "id": "4UX-w-qbxFB-"
      },
      "source": [
        "# Reference [2] - https://dash.plotly.com/layout\n",
        "import dash\n",
        "import dash_core_components as dcc\n",
        "import dash_html_components as html\n",
        "import plotly.express as px\n",
        "import pandas as pd\n",
        "\n",
        "app = dash.Dash(__name__)\n",
        "\n",
        "# assume you have a \"long-form\" data frame\n",
        "# see https://plotly.com/python/px-arguments/ for more options\n",
        "df = pd.DataFrame({\n",
        "    \"Fruit\": [\"Apples\", \"Oranges\", \"Bananas\", \"Apples\", \"Oranges\", \"Bananas\"],\n",
        "    \"Amount\": [4, 1, 2, 2, 4, 5],\n",
        "    \"City\": [\"SF\", \"SF\", \"SF\", \"Montreal\", \"Montreal\", \"Montreal\"]\n",
        "})\n",
        "\n",
        "fig = px.bar(df, x=\"Fruit\", y=\"Amount\", color=\"City\", barmode=\"group\")\n",
        "\n",
        "app.layout = html.Div(children=[\n",
        "    html.H1(children='Hello Dash'),\n",
        "\n",
        "    html.Div(children='''\n",
        "        Dash: A web application framework for your data.\n",
        "    '''),\n",
        "\n",
        "    dcc.Graph(\n",
        "        id='example-graph',\n",
        "        figure=fig\n",
        "    )\n",
        "])\n",
        "\n",
        "if __name__ == '__main__':\n",
        "    app.run_server(debug=True, port=8054)"
      ],
      "execution_count": null,
      "outputs": []
    },
    {
      "cell_type": "markdown",
      "metadata": {
        "id": "VdHfTf9Wwz6t"
      },
      "source": [
        "- That didn't work. Let's search more specifically ( \"dash in colab\" )"
      ]
    },
    {
      "cell_type": "code",
      "metadata": {
        "id": "Z9HhwNFDyPwc"
      },
      "source": [
        "# Reference [3]\n",
        "# How to run a Dash app in Google Colab\n",
        "\n",
        "## Requirements\n",
        "\n",
        "### Install ngrok\n",
        "!wget https://bin.equinox.io/c/4VmDzA7iaHb/ngrok-stable-linux-amd64.zip\n",
        "!unzip ngrok-stable-linux-amd64.zip\n",
        "\n",
        "### Run ngrok to tunnel Dash app port 8050 to the outside world. \n",
        "### This command runs in the background.\n",
        "get_ipython().system_raw('./ngrok http 8050 &')\n",
        "\n",
        "### Get the public URL where you can access the Dash app. Copy this URL.\n",
        "! curl -s http://localhost:4040/api/tunnels | python3 -c \\\n",
        "    \"import sys, json; print(json.load(sys.stdin)['tunnels'][0]['public_url'])\"\n",
        "\n",
        "### Install Dash\n",
        "!pip install dash==0.31.1  # The core dash backend\n",
        "!pip install dash-html-components==0.13.2  # HTML components\n",
        "!pip install dash-core-components==0.39.0  # Supercharged components\n",
        "!pip install dash-table==3.1.7  # Interactive DataTable component (new!)"
      ],
      "execution_count": null,
      "outputs": []
    },
    {
      "cell_type": "code",
      "metadata": {
        "id": "N4rEeigEyVoG"
      },
      "source": [
        "## Dash app (https://dash.plot.ly/getting-started)\n",
        "\n",
        "### Save file with Dash app on the Google Colab machine\n",
        "%%writefile my_app1.py\n",
        "import dash\n",
        "import dash_core_components as dcc\n",
        "import dash_html_components as html\n",
        "\n",
        "external_stylesheets = ['https://codepen.io/chriddyp/pen/bWLwgP.css']\n",
        "\n",
        "app = dash.Dash(__name__, external_stylesheets=external_stylesheets)\n",
        "\n",
        "app.layout = html.Div(children=[\n",
        "    html.H1(children='Hello Dash'),\n",
        "\n",
        "    html.Div(children='''\n",
        "        Dash: A web application framework for Python.\n",
        "    '''),\n",
        "\n",
        "    dcc.Graph(\n",
        "        id='example-graph',\n",
        "        figure={\n",
        "            'data': [\n",
        "                {'x': [1, 2, 3], 'y': [4, 1, 2], 'type': 'bar', 'name': 'SF'},\n",
        "                {'x': [1, 2, 3], 'y': [2, 4, 5], 'type': 'bar', 'name': u'Montréal'},\n",
        "            ],\n",
        "            'layout': {\n",
        "                'title': 'Dash Data Visualization'\n",
        "            }\n",
        "        }\n",
        "    )\n",
        "])\n",
        "\n",
        "if __name__ == '__main__':\n",
        "    app.run_server(debug=True)"
      ],
      "execution_count": null,
      "outputs": []
    },
    {
      "cell_type": "code",
      "metadata": {
        "id": "FQITLX5yydSK"
      },
      "source": [
        "### Run Dash app\n",
        "!python my_app1.py"
      ],
      "execution_count": null,
      "outputs": []
    },
    {
      "cell_type": "markdown",
      "metadata": {
        "id": "crUhQSyP0u36"
      },
      "source": [
        "- Stil not working... what now? \n",
        "\n",
        "- Revert to matplotlib?"
      ]
    },
    {
      "cell_type": "code",
      "metadata": {
        "id": "dfjlia0uzLVe"
      },
      "source": [
        "!pip install jupyter-dash\n",
        "\n",
        "import plotly.express as px\n",
        "from jupyter_dash import JupyterDash\n",
        "import dash_core_components as dcc\n",
        "import dash_html_components as html\n",
        "from dash.dependencies import Input, Output\n",
        "# Load Data\n",
        "df = px.data.tips()\n",
        "# Build App\n",
        "app = JupyterDash(__name__)\n",
        "app.layout = html.Div([\n",
        "    html.H1(\"JupyterDash Demo\"),\n",
        "    dcc.Graph(id='graph'),\n",
        "    html.Label([\n",
        "        \"colorscale\",\n",
        "        dcc.Dropdown(\n",
        "            id='colorscale-dropdown', clearable=False,\n",
        "            value='plasma', options=[\n",
        "                {'label': c, 'value': c}\n",
        "                for c in px.colors.named_colorscales()\n",
        "            ])\n",
        "    ]),\n",
        "])\n",
        "# Define callback to update graph\n",
        "@app.callback(\n",
        "    Output('graph', 'figure'),\n",
        "    [Input(\"colorscale-dropdown\", \"value\")]\n",
        ")\n",
        "def update_figure(colorscale):\n",
        "    return px.scatter(\n",
        "        df, x=\"total_bill\", y=\"tip\", color=\"size\",\n",
        "        color_continuous_scale=colorscale,\n",
        "        render_mode=\"webgl\", title=\"Tips\"\n",
        "    )\n",
        "# Run app and display result inline in the notebook\n",
        "app.run_server(mode='inline')"
      ],
      "execution_count": null,
      "outputs": []
    },
    {
      "cell_type": "markdown",
      "metadata": {
        "id": "j4wimPaNXy7H"
      },
      "source": [
        "# A Little More on Daily Life as an Analytics Engineer at Cigna\n",
        "\n",
        "- Meet really great people\n",
        "\n",
        "- Work with awesome tools and resources - learn a LOT\n",
        "  - Agile, program management, real world tools\n",
        "\n",
        "- See what it takes to really make a change in the world - understand how to create value"
      ]
    },
    {
      "cell_type": "markdown",
      "metadata": {
        "id": "AeZkpu6xjCC2"
      },
      "source": [
        "# References\n",
        "\n",
        "1. https://www.practicaldatascience.org/html/parquet.html\n",
        "\n",
        "2. https://dash.plotly.com/layout\n",
        "\n",
        "3. https://stackoverflow.com/questions/53622518/launch-a-dash-app-in-a-google-colab-notebook"
      ]
    },
    {
      "cell_type": "code",
      "metadata": {
        "id": "KtKrJgVPX2nl"
      },
      "source": [
        ""
      ],
      "execution_count": null,
      "outputs": []
    },
    {
      "cell_type": "code",
      "metadata": {
        "id": "jDvzo5QkjGhM"
      },
      "source": [
        ""
      ],
      "execution_count": null,
      "outputs": []
    }
  ]
}